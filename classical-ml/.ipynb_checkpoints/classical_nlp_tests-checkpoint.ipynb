{
  "nbformat": 4,
  "nbformat_minor": 0,
  "metadata": {
    "kernelspec": {
      "display_name": "Python 3",
      "language": "python",
      "name": "python3"
    },
    "language_info": {
      "codemirror_mode": {
        "name": "ipython",
        "version": 3
      },
      "file_extension": ".py",
      "mimetype": "text/x-python",
      "name": "python",
      "nbconvert_exporter": "python",
      "pygments_lexer": "ipython3",
      "version": "3.7.4"
    },
    "colab": {
      "name": "classical-nlp-tests_f.ipynb",
      "provenance": [],
      "collapsed_sections": []
    },
    "accelerator": "GPU"
  },
  "cells": [
    {
      "cell_type": "code",
      "metadata": {
        "id": "LXKmtTZPiIr8"
      },
      "source": [
        "import numpy as np\n",
        "import pandas as pd \n",
        "%load_ext autoreload\n",
        "%autoreload 2\n",
        "from load_utils import load_tweets\n",
        "from classical_ml_utils import test_logreg, plot_all_bow, test_min_df, test_svm"
      ],
      "execution_count": 1,
      "outputs": []
    },
    {
      "cell_type": "markdown",
      "metadata": {
        "id": "-AAgpz5RiIsE"
      },
      "source": [
        "#### Raw Tweets - Load Reduced Dataset"
      ]
    },
    {
      "cell_type": "code",
      "metadata": {
        "colab": {
          "base_uri": "https://localhost:8080/"
        },
        "id": "uhb8sH7ziIsF",
        "outputId": "449294a5-71e9-4a82-de79-fcf865b52fbb"
      },
      "source": [
        "# Load tweets\n",
        "tweets_r = load_tweets(full = False)"
      ],
      "execution_count": null,
      "outputs": [
        {
          "output_type": "stream",
          "text": [
            "loaded 200000 tweets in dataframe with columns: Index(['text', 'label'], dtype='object')\n"
          ],
          "name": "stdout"
        }
      ]
    },
    {
      "cell_type": "markdown",
      "metadata": {
        "id": "d_Ld3QUpiIsH"
      },
      "source": [
        "# Bag of Words and TFIDF\n",
        "- Logisitic Regression, grid search for regularization strength with cross validation\n",
        "- Validation Accuracy comparison"
      ]
    },
    {
      "cell_type": "markdown",
      "metadata": {
        "id": "1o941IawiIsH"
      },
      "source": [
        "#### 1) BoW"
      ]
    },
    {
      "cell_type": "code",
      "metadata": {
        "colab": {
          "base_uri": "https://localhost:8080/"
        },
        "id": "MU5PtWNEiIsI",
        "outputId": "ae6a8813-5f05-4fe8-f8e5-59a691726016"
      },
      "source": [
        "grid_cv_bow = test_logreg(method = 'bow', tweets = tweets_r)"
      ],
      "execution_count": null,
      "outputs": [
        {
          "output_type": "stream",
          "text": [
            "Fitting 3 folds for each of 6 candidates, totalling 18 fits\n"
          ],
          "name": "stdout"
        },
        {
          "output_type": "stream",
          "text": [
            "[Parallel(n_jobs=1)]: Using backend SequentialBackend with 1 concurrent workers.\n",
            "[Parallel(n_jobs=1)]: Done  18 out of  18 | elapsed:  1.8min finished\n"
          ],
          "name": "stderr"
        },
        {
          "output_type": "stream",
          "text": [
            "Accuracy is 80.705  %\n"
          ],
          "name": "stdout"
        }
      ]
    },
    {
      "cell_type": "markdown",
      "metadata": {
        "id": "mUZfTyLqiIsI"
      },
      "source": [
        "#### 2) BoW with ngrams (1,2)"
      ]
    },
    {
      "cell_type": "code",
      "metadata": {
        "colab": {
          "base_uri": "https://localhost:8080/"
        },
        "id": "oU4MqHmEiIsI",
        "outputId": "d9aff1af-034b-4794-b679-af39eb7d8c63"
      },
      "source": [
        "grid_cv_bow2 = test_logreg(method = 'bow', tweets = tweets_r,ngram_range=(1, 2))"
      ],
      "execution_count": null,
      "outputs": [
        {
          "output_type": "stream",
          "text": [
            "Fitting 3 folds for each of 6 candidates, totalling 18 fits\n"
          ],
          "name": "stdout"
        },
        {
          "output_type": "stream",
          "text": [
            "[Parallel(n_jobs=1)]: Using backend SequentialBackend with 1 concurrent workers.\n",
            "[Parallel(n_jobs=1)]: Done  18 out of  18 | elapsed:  4.3min finished\n"
          ],
          "name": "stderr"
        },
        {
          "output_type": "stream",
          "text": [
            "Accuracy is 82.79666666666667  %\n"
          ],
          "name": "stdout"
        }
      ]
    },
    {
      "cell_type": "markdown",
      "metadata": {
        "id": "00UBDVwiiIsJ"
      },
      "source": [
        "#### 3) BoW with ngrams (1,3)"
      ]
    },
    {
      "cell_type": "code",
      "metadata": {
        "colab": {
          "base_uri": "https://localhost:8080/"
        },
        "id": "7oUDBg5BiIsJ",
        "outputId": "a939ab1c-9bee-4c93-9ab2-aff525561826"
      },
      "source": [
        "grid_cv_bow3 = test_logreg(method = 'bow', tweets = tweets_r,ngram_range=(1, 3))"
      ],
      "execution_count": null,
      "outputs": [
        {
          "output_type": "stream",
          "text": [
            "Fitting 3 folds for each of 6 candidates, totalling 18 fits\n"
          ],
          "name": "stdout"
        },
        {
          "output_type": "stream",
          "text": [
            "[Parallel(n_jobs=1)]: Using backend SequentialBackend with 1 concurrent workers.\n",
            "[Parallel(n_jobs=1)]: Done  18 out of  18 | elapsed:  7.3min finished\n"
          ],
          "name": "stderr"
        },
        {
          "output_type": "stream",
          "text": [
            "Accuracy is 82.99  %\n"
          ],
          "name": "stdout"
        }
      ]
    },
    {
      "cell_type": "markdown",
      "metadata": {
        "id": "B_wqEBY0iIsK"
      },
      "source": [
        "#### 4) BoW with ngrams (1,4)"
      ]
    },
    {
      "cell_type": "code",
      "metadata": {
        "colab": {
          "base_uri": "https://localhost:8080/"
        },
        "id": "H7s5qMoViIsK",
        "outputId": "014d6f31-dfc3-40fd-80d2-c600a8cb0c02"
      },
      "source": [
        "grid_cv_bow4 = test_logreg(method = 'bow', tweets = tweets_r,ngram_range=(1, 4))"
      ],
      "execution_count": null,
      "outputs": [
        {
          "output_type": "stream",
          "text": [
            "Fitting 3 folds for each of 6 candidates, totalling 18 fits\n"
          ],
          "name": "stdout"
        },
        {
          "output_type": "stream",
          "text": [
            "[Parallel(n_jobs=1)]: Using backend SequentialBackend with 1 concurrent workers.\n",
            "[Parallel(n_jobs=1)]: Done  18 out of  18 | elapsed: 10.0min finished\n"
          ],
          "name": "stderr"
        },
        {
          "output_type": "stream",
          "text": [
            "Accuracy is 83.035  %\n"
          ],
          "name": "stdout"
        }
      ]
    },
    {
      "cell_type": "markdown",
      "metadata": {
        "id": "uktDJdkKiIsL"
      },
      "source": [
        "#### 5) BoW with ngrams (1,5)"
      ]
    },
    {
      "cell_type": "code",
      "metadata": {
        "colab": {
          "base_uri": "https://localhost:8080/"
        },
        "id": "n5rwD1TYiIsL",
        "outputId": "ea8d1505-de1f-4837-a0e0-fcc3b03ca476"
      },
      "source": [
        "grid_cv_bow5 = test_logreg(method = 'bow', tweets = tweets_r,ngram_range=(1, 5))"
      ],
      "execution_count": null,
      "outputs": [
        {
          "output_type": "stream",
          "text": [
            "Fitting 3 folds for each of 6 candidates, totalling 18 fits\n"
          ],
          "name": "stdout"
        },
        {
          "output_type": "stream",
          "text": [
            "[Parallel(n_jobs=1)]: Using backend SequentialBackend with 1 concurrent workers.\n",
            "[Parallel(n_jobs=1)]: Done  18 out of  18 | elapsed: 12.3min finished\n"
          ],
          "name": "stderr"
        },
        {
          "output_type": "stream",
          "text": [
            "Accuracy is 82.975  %\n"
          ],
          "name": "stdout"
        }
      ]
    },
    {
      "cell_type": "markdown",
      "metadata": {
        "id": "8HwBFcwFiIsL"
      },
      "source": [
        "#### 6) BoW with Stopwords removal"
      ]
    },
    {
      "cell_type": "code",
      "metadata": {
        "colab": {
          "base_uri": "https://localhost:8080/"
        },
        "id": "KEsg-4vkiIsL",
        "outputId": "0c603154-1880-41f6-ea38-2cfa5c771056"
      },
      "source": [
        "grid_cv_bow6 = test_logreg(method = 'bow', tweets = tweets_r, stop_words = 'english')"
      ],
      "execution_count": null,
      "outputs": [
        {
          "output_type": "stream",
          "text": [
            "Fitting 3 folds for each of 6 candidates, totalling 18 fits\n"
          ],
          "name": "stdout"
        },
        {
          "output_type": "stream",
          "text": [
            "[Parallel(n_jobs=1)]: Using backend SequentialBackend with 1 concurrent workers.\n",
            "[Parallel(n_jobs=1)]: Done  18 out of  18 | elapsed:  1.4min finished\n"
          ],
          "name": "stderr"
        },
        {
          "output_type": "stream",
          "text": [
            "Accuracy is 79.135  %\n"
          ],
          "name": "stdout"
        }
      ]
    },
    {
      "cell_type": "markdown",
      "metadata": {
        "id": "WL3oqrKSiIsM"
      },
      "source": [
        "#### 1) TFIDF"
      ]
    },
    {
      "cell_type": "code",
      "metadata": {
        "colab": {
          "base_uri": "https://localhost:8080/"
        },
        "id": "GbjrePmxiIsM",
        "outputId": "48f8b31e-a384-4b89-d64a-34f2fcc04cb3"
      },
      "source": [
        "grid_cv_tfidf = test_logreg(method = 'tfidf', tweets = tweets_r)"
      ],
      "execution_count": null,
      "outputs": [
        {
          "output_type": "stream",
          "text": [
            "Fitting 3 folds for each of 6 candidates, totalling 18 fits\n"
          ],
          "name": "stdout"
        },
        {
          "output_type": "stream",
          "text": [
            "[Parallel(n_jobs=1)]: Using backend SequentialBackend with 1 concurrent workers.\n",
            "[Parallel(n_jobs=1)]: Done  18 out of  18 | elapsed:  1.2min finished\n"
          ],
          "name": "stderr"
        },
        {
          "output_type": "stream",
          "text": [
            "Accuracy is 80.57  %\n"
          ],
          "name": "stdout"
        }
      ]
    },
    {
      "cell_type": "markdown",
      "metadata": {
        "id": "Zt_5cHTniIsM"
      },
      "source": [
        "#### 2) TFIDF with ngrams (1,2)"
      ]
    },
    {
      "cell_type": "code",
      "metadata": {
        "colab": {
          "base_uri": "https://localhost:8080/"
        },
        "id": "YoVqP9WviIsN",
        "outputId": "56c91039-9e13-4d67-81fd-9cee61fc9f20"
      },
      "source": [
        "grid_cv_tfidf2 = test_logreg(method = 'tfidf', tweets = tweets_r,ngram_range=(1, 2))"
      ],
      "execution_count": null,
      "outputs": [
        {
          "output_type": "stream",
          "text": [
            "Fitting 3 folds for each of 6 candidates, totalling 18 fits\n"
          ],
          "name": "stdout"
        },
        {
          "output_type": "stream",
          "text": [
            "[Parallel(n_jobs=1)]: Using backend SequentialBackend with 1 concurrent workers.\n",
            "[Parallel(n_jobs=1)]: Done  18 out of  18 | elapsed:  3.0min finished\n"
          ],
          "name": "stderr"
        },
        {
          "output_type": "stream",
          "text": [
            "Accuracy is 82.87833333333333  %\n"
          ],
          "name": "stdout"
        }
      ]
    },
    {
      "cell_type": "markdown",
      "metadata": {
        "id": "UmvgyookiIsN"
      },
      "source": [
        "#### 3) TFIDF with ngrams (1,3)"
      ]
    },
    {
      "cell_type": "code",
      "metadata": {
        "colab": {
          "base_uri": "https://localhost:8080/"
        },
        "id": "FpraSNy4iIsN",
        "outputId": "908ba6fc-1818-43c3-d3d9-1a70757a5852"
      },
      "source": [
        "grid_cv_tfidf3 = test_logreg(method = 'tfidf', tweets = tweets_r,ngram_range=(1, 3))"
      ],
      "execution_count": null,
      "outputs": [
        {
          "output_type": "stream",
          "text": [
            "Fitting 3 folds for each of 6 candidates, totalling 18 fits\n"
          ],
          "name": "stdout"
        },
        {
          "output_type": "stream",
          "text": [
            "[Parallel(n_jobs=1)]: Using backend SequentialBackend with 1 concurrent workers.\n",
            "[Parallel(n_jobs=1)]: Done  18 out of  18 | elapsed:  5.2min finished\n"
          ],
          "name": "stderr"
        },
        {
          "output_type": "stream",
          "text": [
            "Accuracy is 82.91166666666666  %\n"
          ],
          "name": "stdout"
        }
      ]
    },
    {
      "cell_type": "markdown",
      "metadata": {
        "id": "GOI9HjgCiIsO"
      },
      "source": [
        "#### 4) TFIDF with ngrams (1,4)"
      ]
    },
    {
      "cell_type": "code",
      "metadata": {
        "colab": {
          "base_uri": "https://localhost:8080/"
        },
        "id": "ZLJVz5mPiIsO",
        "outputId": "74243da8-575f-474c-86c6-346f5370925b"
      },
      "source": [
        "grid_cv_tfidf4 = test_logreg(method = 'tfidf', tweets = tweets_r,ngram_range=(1, 4))"
      ],
      "execution_count": null,
      "outputs": [
        {
          "output_type": "stream",
          "text": [
            "Fitting 3 folds for each of 6 candidates, totalling 18 fits\n"
          ],
          "name": "stdout"
        },
        {
          "output_type": "stream",
          "text": [
            "[Parallel(n_jobs=1)]: Using backend SequentialBackend with 1 concurrent workers.\n",
            "[Parallel(n_jobs=1)]: Done  18 out of  18 | elapsed:  7.4min finished\n"
          ],
          "name": "stderr"
        },
        {
          "output_type": "stream",
          "text": [
            "Accuracy is 82.78  %\n"
          ],
          "name": "stdout"
        }
      ]
    },
    {
      "cell_type": "markdown",
      "metadata": {
        "id": "AVuGvRS4iIsO"
      },
      "source": [
        "#### 5) TFIDF with ngrams (1,5)"
      ]
    },
    {
      "cell_type": "code",
      "metadata": {
        "colab": {
          "base_uri": "https://localhost:8080/"
        },
        "id": "K7HuIyg-iIsO",
        "outputId": "a405b3f9-e0d7-4764-861b-4c85ccfc8af0"
      },
      "source": [
        "grid_cv_tfidf5 = test_logreg(method = 'tfidf', tweets = tweets_r,ngram_range=(1, 5))"
      ],
      "execution_count": null,
      "outputs": [
        {
          "output_type": "stream",
          "text": [
            "Fitting 3 folds for each of 6 candidates, totalling 18 fits\n"
          ],
          "name": "stdout"
        },
        {
          "output_type": "stream",
          "text": [
            "[Parallel(n_jobs=1)]: Using backend SequentialBackend with 1 concurrent workers.\n",
            "[Parallel(n_jobs=1)]: Done  18 out of  18 | elapsed:  9.6min finished\n"
          ],
          "name": "stderr"
        },
        {
          "output_type": "stream",
          "text": [
            "Accuracy is 82.515  %\n"
          ],
          "name": "stdout"
        }
      ]
    },
    {
      "cell_type": "markdown",
      "metadata": {
        "id": "SgLec1IFiIsP"
      },
      "source": [
        "TFIDF performs worse than the BoW model. This can be explained by the fact that TFIDF is meant to gather singularities and our sentiment analysis task needs to gather similarity. "
      ]
    },
    {
      "cell_type": "markdown",
      "metadata": {
        "id": "N-qn86wsiIsP"
      },
      "source": [
        "### Plot all models"
      ]
    },
    {
      "cell_type": "markdown",
      "metadata": {
        "id": "o6ruvpOHiIsP"
      },
      "source": [
        "BoW logistic regression validation plots"
      ]
    },
    {
      "cell_type": "code",
      "metadata": {
        "colab": {
          "base_uri": "https://localhost:8080/",
          "height": 295
        },
        "id": "1Xywv8zWiIsP",
        "outputId": "63366177-54f3-4778-fa32-bb326479df08"
      },
      "source": [
        "plot_all_bow(grid_cv_bow, grid_cv_bow2, grid_cv_bow3, grid_cv_bow4, grid_cv_bow5, grid_cv_bow6)"
      ],
      "execution_count": null,
      "outputs": [
        {
          "output_type": "display_data",
          "data": {
            "image/png": "[encoded data removed]",
            "text/plain": [
              "<Figure size 432x288 with 1 Axes>"
            ]
          },
          "metadata": {
            "tags": [],
            "needs_background": "light"
          }
        }
      ]
    },
    {
      "cell_type": "markdown",
      "metadata": {
        "id": "SAR7grtCiIsQ"
      },
      "source": [
        "### Different Pipelines using BoW with 4-gram"
      ]
    },
    {
      "cell_type": "markdown",
      "metadata": {
        "id": "4dklU-KBiIsQ"
      },
      "source": [
        "##### Logistic Regression with Lasso Regularization"
      ]
    },
    {
      "cell_type": "code",
      "metadata": {
        "colab": {
          "base_uri": "https://localhost:8080/"
        },
        "id": "1oUDxKpEiIsQ",
        "outputId": "ea39607a-3121-4b5f-c906-d4d07e750075"
      },
      "source": [
        "grid_cv_bow_lasso = test_logreg(method = 'bow', tweets = tweets_r,ngram_range=(1, 4), penalty='l1')"
      ],
      "execution_count": null,
      "outputs": [
        {
          "output_type": "stream",
          "text": [
            "Fitting 3 folds for each of 6 candidates, totalling 18 fits\n"
          ],
          "name": "stdout"
        },
        {
          "output_type": "stream",
          "text": [
            "[Parallel(n_jobs=1)]: Using backend SequentialBackend with 1 concurrent workers.\n",
            "[Parallel(n_jobs=1)]: Done  18 out of  18 | elapsed:  7.2min finished\n"
          ],
          "name": "stderr"
        },
        {
          "output_type": "stream",
          "text": [
            "Accuracy is 82.13666666666667  %\n"
          ],
          "name": "stdout"
        }
      ]
    },
    {
      "cell_type": "markdown",
      "metadata": {
        "id": "nA3TenbfiIsR"
      },
      "source": [
        "##### Support Vector Machine with linear kernel"
      ]
    },
    {
      "cell_type": "code",
      "metadata": {
        "colab": {
          "base_uri": "https://localhost:8080/"
        },
        "id": "6U5pcoNaiIsR",
        "outputId": "a4cdd51a-ca58-4fb0-8e1d-ce031e9b5826"
      },
      "source": [
        "test_svm(tweets_r, kernel='linear')"
      ],
      "execution_count": null,
      "outputs": [
        {
          "output_type": "stream",
          "text": [
            "Fitting 2 folds for each of 6 candidates, totalling 12 fits\n"
          ],
          "name": "stdout"
        },
        {
          "output_type": "stream",
          "text": [
            "[Parallel(n_jobs=1)]: Using backend SequentialBackend with 1 concurrent workers.\n",
            "[Parallel(n_jobs=1)]: Done  12 out of  12 | elapsed: 20.5min finished\n"
          ],
          "name": "stderr"
        },
        {
          "output_type": "stream",
          "text": [
            "Accuracy is 82.98  %\n"
          ],
          "name": "stdout"
        },
        {
          "output_type": "execute_result",
          "data": {
            "text/plain": [
              "GridSearchCV(cv=2, error_score=nan,\n",
              "             estimator=Pipeline(memory=None,\n",
              "                                steps=[('vect',\n",
              "                                        CountVectorizer(analyzer='word',\n",
              "                                                        binary=False,\n",
              "                                                        decode_error='strict',\n",
              "                                                        dtype=<class 'numpy.int64'>,\n",
              "                                                        encoding='utf-8',\n",
              "                                                        input='content',\n",
              "                                                        lowercase=True,\n",
              "                                                        max_df=1.0,\n",
              "                                                        max_features=None,\n",
              "                                                        min_df=1,\n",
              "                                                        ngram_range=(1, 4),\n",
              "                                                        preprocessor=None,\n",
              "                                                        stop_words=None,\n",
              "                                                        strip_accents=None,\n",
              "                                                        token_pattern='(?u)...\n",
              "                                                  dual=True, fit_intercept=True,\n",
              "                                                  intercept_scaling=1,\n",
              "                                                  loss='squared_hinge',\n",
              "                                                  max_iter=100000,\n",
              "                                                  multi_class='ovr',\n",
              "                                                  penalty='l2',\n",
              "                                                  random_state=None, tol=0.0001,\n",
              "                                                  verbose=0))],\n",
              "                                verbose=False),\n",
              "             iid='deprecated', n_jobs=None,\n",
              "             param_grid={'linearsvc__C': array([1.e-04, 1.e-03, 1.e-02, 1.e-01, 1.e+00, 1.e+01])},\n",
              "             pre_dispatch='2*n_jobs', refit=True, return_train_score=True,\n",
              "             scoring=None, verbose=1)"
            ]
          },
          "metadata": {
            "tags": []
          },
          "execution_count": 16
        }
      ]
    },
    {
      "cell_type": "markdown",
      "metadata": {
        "id": "gZ2e46nhiIsR"
      },
      "source": [
        "# Limitations of BoW model \n",
        "-> doesn't take any punctuation into account (nor does GloVe embeddings except if we preprocess those into words) \n",
        "\n",
        "-> very high computational cost because the feature space is as big as the number of words in the vocabulary \n",
        "\n",
        "-> standard NLP techniques such as stopword removal are useless in classification tasks based on polarity because they often result in the loss of crucial information\n",
        "\n",
        "-> stemming and lemmatizing are also known to be pointless in such classification tasks and were therefore not performed here"
      ]
    },
    {
      "cell_type": "markdown",
      "metadata": {
        "id": "S83Ky3ESiIsR"
      },
      "source": [
        "# Testing different min_df values \n",
        "-> quantify how much information is in words appearing less than X times"
      ]
    },
    {
      "cell_type": "code",
      "metadata": {
        "colab": {
          "base_uri": "https://localhost:8080/",
          "height": 466
        },
        "id": "bmxqyevuiIsR",
        "outputId": "8cda5067-de8c-44ea-e176-36601a090018"
      },
      "source": [
        "test_min_df(tweets_r)"
      ],
      "execution_count": null,
      "outputs": [
        {
          "output_type": "stream",
          "text": [
            "Accuracy is 83.035  %\n",
            "Accuracy is 82.60833333333333  %\n",
            "Accuracy is 82.34166666666667  %\n",
            "Accuracy is 82.20333333333333  %\n",
            "Accuracy is 82.1  %\n",
            "Accuracy is 81.94500000000001  %\n",
            "Accuracy is 81.98666666666666  %\n",
            "Accuracy is 81.97333333333333  %\n",
            "Accuracy is 81.88833333333334  %\n",
            "Accuracy is 81.80666666666667  %\n"
          ],
          "name": "stdout"
        },
        {
          "output_type": "display_data",
          "data": {
            "image/png": "[encoded data removed]",
            "text/plain": [
              "<Figure size 432x288 with 1 Axes>"
            ]
          },
          "metadata": {
            "tags": [],
            "needs_background": "light"
          }
        }
      ]
    },
    {
      "cell_type": "markdown",
      "metadata": {
        "id": "YFNFK77-iIsS"
      },
      "source": [
        "# Best Model on Full Dataset"
      ]
    },
    {
      "cell_type": "code",
      "metadata": {
        "colab": {
          "base_uri": "https://localhost:8080/"
        },
        "id": "UdGntmMOiIsS",
        "outputId": "d88c891b-bd3c-4dca-9b27-cff279a09f22"
      },
      "source": [
        "tweets = load_tweets(full = True)"
      ],
      "execution_count": 2,
      "outputs": [
        {
          "output_type": "stream",
          "text": [
            "loaded 2500000 tweets in dataframe with columns: Index(['text', 'label'], dtype='object')\n"
          ],
          "name": "stdout"
        }
      ]
    },
    {
      "cell_type": "code",
      "metadata": {
        "id": "Pg7NZ3vDdHOM"
      },
      "source": [
        "#uncomment line below to get the same plot with full dataset. Takes a lot of time and significant RAM\n",
        "#test_min_df(tweets)"
      ],
      "execution_count": null,
      "outputs": []
    },
    {
      "cell_type": "code",
      "metadata": {
        "id": "fZph6enmiIsS",
        "colab": {
          "base_uri": "https://localhost:8080/"
        },
        "outputId": "0b53ae48-e7cd-45cc-8a4a-14c8dc64a97e"
      },
      "source": [
        "grid_cv = test_logreg(method = 'bow', tweets = tweets,ngram_range=(1, 4), cv=2)"
      ],
      "execution_count": 3,
      "outputs": [
        {
          "output_type": "stream",
          "text": [
            "Fitting 2 folds for each of 6 candidates, totalling 12 fits\n"
          ],
          "name": "stdout"
        },
        {
          "output_type": "stream",
          "text": [
            "[Parallel(n_jobs=1)]: Using backend SequentialBackend with 1 concurrent workers.\n",
            "[Parallel(n_jobs=1)]: Done  12 out of  12 | elapsed: 188.1min finished\n"
          ],
          "name": "stderr"
        },
        {
          "output_type": "stream",
          "text": [
            "Accuracy is 86.13906666666666  %\n"
          ],
          "name": "stdout"
        }
      ]
    }
  ]
}